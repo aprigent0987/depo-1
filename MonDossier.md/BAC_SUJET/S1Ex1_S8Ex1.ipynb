{
 "cells": [
  {
   "cell_type": "markdown",
   "metadata": {},
   "source": [
    " # EX1 SUJET 1\n"
   ]
  },
  {
   "cell_type": "code",
   "execution_count": null,
   "metadata": {},
   "outputs": [],
   "source": [
    "def recherche(caractere, mot):\n",
    "    somme = 0\n",
    "    for lettre in mot:\n",
    "        if lettre == caractere:\n",
    "            somme += 1\n",
    "    return somme"
   ]
  },
  {
   "cell_type": "code",
   "execution_count": null,
   "metadata": {},
   "outputs": [],
   "source": [
    "recherche('e', \"recherche\")"
   ]
  },
  {
   "cell_type": "markdown",
   "metadata": {},
   "source": [
    "# EX1 SUJET 8"
   ]
  },
  {
   "cell_type": "code",
   "execution_count": 7,
   "metadata": {},
   "outputs": [],
   "source": [
    "def recherche(elt : int, tab : list):\n",
    "   for i in range(len(tab)):\n",
    "        if tab[i] == elt :\n",
    "            return i\n",
    "        return - 1"
   ]
  },
  {
   "cell_type": "code",
   "execution_count": 5,
   "metadata": {},
   "outputs": [
    {
     "data": {
      "text/plain": [
       "-1"
      ]
     },
     "execution_count": 5,
     "metadata": {},
     "output_type": "execute_result"
    }
   ],
   "source": [
    "recherche(1, [2, 3, 4])"
   ]
  },
  {
   "cell_type": "markdown",
   "metadata": {},
   "source": [
    "2 parcours de liste a faire en intératif et 1 en récursif"
   ]
  },
  {
   "cell_type": "markdown",
   "metadata": {},
   "source": [
    "# EX1 SUJET 6"
   ]
  },
  {
   "cell_type": "code",
   "execution_count": 1,
   "metadata": {},
   "outputs": [],
   "source": [
    "def maxi(tab : list) : \n",
    "    \n",
    "    maxi = tab[0] # définir les parametres de la list \n",
    "    i_m = [0]     # ~~~~~~~~~~~~~~~~~~~~~~~~~~~~~~\n",
    "    \n",
    "    for i in range(len(tab)): #création de la boucle qui regroupe les parametres et renvoie le maximum de la boucle\n",
    "        if tab[i]>maxi:\n",
    "            maxi  = tab[i]\n",
    "            i_m=  i\n",
    "    return maxi,i_m"
   ]
  },
  {
   "cell_type": "code",
   "execution_count": 2,
   "metadata": {},
   "outputs": [
    {
     "data": {
      "text/plain": [
       "(9, 3)"
      ]
     },
     "execution_count": 2,
     "metadata": {},
     "output_type": "execute_result"
    }
   ],
   "source": [
    "maxi([1,5,6,9,1,2,3,7,9,8])"
   ]
  },
  {
   "cell_type": "markdown",
   "metadata": {},
   "source": [
    "# EX 2 SUJET 32"
   ]
  },
  {
   "cell_type": "markdown",
   "metadata": {},
   "source": [
    "Le code ci-dessous implémente la classe `AdresseIP`.\n",
    "\n",
    "```python linenums='1'\n",
    "class AdresseIP:\n",
    "    def __init__(self, adresse):\n",
    "        self.adresse = ...\n",
    "\n",
    "    def liste_octet(self):\n",
    "        \"\"\"renvoie une liste de nombres entiers,\n",
    "        la liste des octets de l'adresse IP\"\"\"\n",
    "        return [int(i) for i in self.adresse.split(\".\")]\n",
    "\n",
    "    def est_reservee(self):\n",
    "        \"\"\"renvoie True si l'adresse IP est une adresse\n",
    "        réservée, False sinon\"\"\"\n",
    "        return ... or ...\n",
    "\n",
    "    def adresse_suivante(self):\n",
    "        \"\"\"renvoie un objet de AdresseIP avec l'adresse\n",
    "        IP qui suit l’adresse self\n",
    "        si elle existe et False sinon\"\"\"\n",
    "        if ... < 254:\n",
    "            octet_nouveau = ... + ...\n",
    "            return AdresseIP('192.168.0.' + ...)\n",
    "        else:\n",
    "            return False"
   ]
  },
  {
   "cell_type": "code",
   "execution_count": 5,
   "metadata": {},
   "outputs": [],
   "source": [
    "class AdresseIP:\n",
    "    def __init__(self, adresse):\n",
    "        self.adresse = adresse\n",
    "\n",
    "    def liste_octet(self):\n",
    "        \"\"\"renvoie une liste de nombres entiers,\n",
    "        la liste des octets de l'adresse IP\"\"\"\n",
    "        return [int(i) for i in self.adresse.split(\".\")]\n",
    "\n",
    "    def est_reservee(self):   #adresse_ip reservée va nous donner une seul adresse ip par appareil\n",
    "        \"\"\"renvoie True si l'adresse IP est une adresse   \n",
    "        réservée, False sinon\"\"\"\n",
    "        return self.liste_octet()[3] == 0 or self.liste_octet()[3] == 255\n",
    "\n",
    "    def adresse_suivante(self):\n",
    "        \"\"\"renvoie un objet de AdresseIP avec l'adresse\n",
    "        IP qui suit l’adresse self\n",
    "        si elle existe et False sinon\"\"\"\n",
    "        if self.liste_octet()[3] < 254:\n",
    "            octet_nouveau = self.liste_octet()[3] + 1\n",
    "            return AdresseIP('192.168.0.' + (octet_nouveau))\n",
    "        else:\n",
    "            return False\n",
    "\n",
    "adresse1 = AdresseIP('192.168.0.1')\n",
    "adresse2 = AdresseIP('192.168.0.2')\n",
    "adresse3 = AdresseIP('192.168.0.0')"
   ]
  },
  {
   "cell_type": "code",
   "execution_count": 6,
   "metadata": {},
   "outputs": [
    {
     "data": {
      "text/plain": [
       "False"
      ]
     },
     "execution_count": 6,
     "metadata": {},
     "output_type": "execute_result"
    }
   ],
   "source": [
    ">>> adresse1.est_reservee()"
   ]
  },
  {
   "cell_type": "markdown",
   "metadata": {},
   "source": [
    "ex 2 a finir"
   ]
  },
  {
   "cell_type": "markdown",
   "metadata": {},
   "source": [
    "Définir address ip : Adresse IP numéro d'identification de chaque appareil connecté à un réseau.\n",
    "adress ip reservé : \n",
    "\n",
    "\n"
   ]
  },
  {
   "cell_type": "markdown",
   "metadata": {},
   "source": []
  }
 ],
 "metadata": {
  "interpreter": {
   "hash": "541a81e03b13eaa79a244450bcd1bd0799da73b0d2f9839d7eb1ccb3ae4431f1"
  },
  "kernelspec": {
   "display_name": "Python 3.10.0 64-bit",
   "language": "python",
   "name": "python3"
  },
  "language_info": {
   "codemirror_mode": {
    "name": "ipython",
    "version": 3
   },
   "file_extension": ".py",
   "mimetype": "text/x-python",
   "name": "python",
   "nbconvert_exporter": "python",
   "pygments_lexer": "ipython3",
   "version": "3.10.0"
  },
  "orig_nbformat": 4
 },
 "nbformat": 4,
 "nbformat_minor": 2
}
